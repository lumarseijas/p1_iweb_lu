{
  "cells": [
    {
      "cell_type": "markdown",
      "metadata": {
        "id": "view-in-github",
        "colab_type": "text"
      },
      "source": [
        "<a href=\"https://colab.research.google.com/github/lumarseijas/p1_iweb_lu/blob/main/notebooks/2.%20Data%20exploration%20and%20visualization.ipynb\" target=\"_parent\"><img src=\"https://colab.research.google.com/assets/colab-badge.svg\" alt=\"Open In Colab\"/></a>"
      ]
    },
    {
      "cell_type": "markdown",
      "metadata": {
        "id": "pxI5BdLVjnqx"
      },
      "source": [
        "The next cell downloads the required data set to carry out the workshop. This kind of code works on Google Colab, and if you are using another platform to run the notebook, you might need to manually download the data directory from the GitHub repository and put it in the same path as the notebook file."
      ]
    },
    {
      "cell_type": "code",
      "execution_count": 52,
      "metadata": {
        "id": "TjZWjolTjnqy",
        "outputId": "c8cce3b7-d480-4171-d85d-55a15f19b0f4",
        "colab": {
          "base_uri": "https://localhost:8080/"
        }
      },
      "outputs": [
        {
          "output_type": "stream",
          "name": "stdout",
          "text": [
            "  % Total    % Received % Xferd  Average Speed   Time    Time     Time  Current\n",
            "                                 Dload  Upload   Total   Spent    Left  Speed\n",
            "100 1516k  100 1516k    0     0  3794k      0 --:--:-- --:--:-- --:--:-- 3800k\n"
          ]
        }
      ],
      "source": [
        "!curl https://raw.githubusercontent.com/APSV-UPM/BusinessIntelligence/main/data/data.csv > data.csv"
      ]
    },
    {
      "cell_type": "markdown",
      "metadata": {
        "id": "bo_A_ixXjnqy"
      },
      "source": [
        "In this workshop, we will work with a data set representing a logistics process. These data contain events from a logistics process in which a series of goods or items are transported from one station to another by train. It is based on a real-world process, but it has been simplified to make it easier to work with.\n",
        "Each step in the process is represented by an event, and the events have a timestamp that represents when the event was recorded. The types of events appear in Spanish; the following table is a translation of these into English.\n",
        "\n",
        "Spanish | English\n",
        "---|---\n",
        "'Comienzo de ruta'         | 'START OF ROUTE'\n",
        "'Descarga de vagones'      | 'END OF WAGON UNLOADING'\n",
        "'Final carga'              | 'END OF WAGON LOADING'\n",
        "'Final de ruta'            | 'END OF ROUTE'\n",
        "'Llegada de vagones'       | 'ARRIVAL OF WAGONS TO DESTINATION'\n",
        "'Salida de vagones'        | 'DEPARTURE OF WAGONS FROM ORIGIN'\n",
        "\n",
        "Our goal is to obtain as much information as we can from this data set. We will achieve this in two ways: we will answer questions with numeric values (e.g., how many trains take part in the process?) or we will generate some charts to present information in a visual way (e.g. how is the distribution of items transported throughout the year?)\n"
      ]
    },
    {
      "cell_type": "code",
      "execution_count": 53,
      "metadata": {
        "id": "DB6uBYqJjnqz"
      },
      "outputs": [],
      "source": [
        "import pandas as pd\n",
        "import matplotlib.pyplot as plt\n",
        "import seaborn as sns\n",
        "import datetime\n",
        "df = pd.read_csv(\"data.csv\")"
      ]
    },
    {
      "cell_type": "markdown",
      "metadata": {
        "id": "quNu-4PMjnqz"
      },
      "source": [
        "# Dataset exploration\n",
        "Any project related to data analysis starts with a study of the data itself.\n",
        "* What kind of data do we have?\n",
        "* How is it organized? How many columns does each dataframe have?\n",
        "* Are there wrong or missing values?\n",
        "* What does each value of a column mean? How many different values are there in each column?\n",
        "\n",
        "With the examples we saw in the previous workshop we try to answer those questions."
      ]
    },
    {
      "cell_type": "code",
      "execution_count": 54,
      "metadata": {
        "id": "Hco4myNPjnqz",
        "outputId": "5d757937-709b-4227-ef57-e85f935e8783",
        "colab": {
          "base_uri": "https://localhost:8080/",
          "height": 206
        }
      },
      "outputs": [
        {
          "output_type": "execute_result",
          "data": {
            "text/plain": [
              "   Unnamed: 0     trip_id train_name                 date  cargo station_id  \\\n",
              "0           0  93OBAJQT4H      VXRCS  2025-04-02 10:57:44   24.0  station_B   \n",
              "1           1  95DWY7U00J      VXRCS  2024-09-18 14:29:50    0.0  station_E   \n",
              "2           2  G2IJESVUP4      UDAXI  2025-06-25 18:00:00    0.0  station_A   \n",
              "3           3  OTSN5U4W9R      VXRCS  2024-09-06 13:16:24    0.0  station_D   \n",
              "4           4  87C7G23CP7      HHEXD  2025-02-06 15:21:28    0.0  station_G   \n",
              "\n",
              "                 event   cargo_type  fuel_level  ended  \n",
              "0  Descarga de vagones     Textiles    1146.000   True  \n",
              "1  Descarga de vagones    Machinery       0.000   True  \n",
              "2     Comienzo de ruta            _     590.056   True  \n",
              "3   Llegada de vagones  Electronics    1031.616   True  \n",
              "4   Llegada de vagones    Machinery     179.750   True  "
            ],
            "text/html": [
              "\n",
              "  <div id=\"df-998139cc-7890-4694-8e26-da7769da0f82\" class=\"colab-df-container\">\n",
              "    <div>\n",
              "<style scoped>\n",
              "    .dataframe tbody tr th:only-of-type {\n",
              "        vertical-align: middle;\n",
              "    }\n",
              "\n",
              "    .dataframe tbody tr th {\n",
              "        vertical-align: top;\n",
              "    }\n",
              "\n",
              "    .dataframe thead th {\n",
              "        text-align: right;\n",
              "    }\n",
              "</style>\n",
              "<table border=\"1\" class=\"dataframe\">\n",
              "  <thead>\n",
              "    <tr style=\"text-align: right;\">\n",
              "      <th></th>\n",
              "      <th>Unnamed: 0</th>\n",
              "      <th>trip_id</th>\n",
              "      <th>train_name</th>\n",
              "      <th>date</th>\n",
              "      <th>cargo</th>\n",
              "      <th>station_id</th>\n",
              "      <th>event</th>\n",
              "      <th>cargo_type</th>\n",
              "      <th>fuel_level</th>\n",
              "      <th>ended</th>\n",
              "    </tr>\n",
              "  </thead>\n",
              "  <tbody>\n",
              "    <tr>\n",
              "      <th>0</th>\n",
              "      <td>0</td>\n",
              "      <td>93OBAJQT4H</td>\n",
              "      <td>VXRCS</td>\n",
              "      <td>2025-04-02 10:57:44</td>\n",
              "      <td>24.0</td>\n",
              "      <td>station_B</td>\n",
              "      <td>Descarga de vagones</td>\n",
              "      <td>Textiles</td>\n",
              "      <td>1146.000</td>\n",
              "      <td>True</td>\n",
              "    </tr>\n",
              "    <tr>\n",
              "      <th>1</th>\n",
              "      <td>1</td>\n",
              "      <td>95DWY7U00J</td>\n",
              "      <td>VXRCS</td>\n",
              "      <td>2024-09-18 14:29:50</td>\n",
              "      <td>0.0</td>\n",
              "      <td>station_E</td>\n",
              "      <td>Descarga de vagones</td>\n",
              "      <td>Machinery</td>\n",
              "      <td>0.000</td>\n",
              "      <td>True</td>\n",
              "    </tr>\n",
              "    <tr>\n",
              "      <th>2</th>\n",
              "      <td>2</td>\n",
              "      <td>G2IJESVUP4</td>\n",
              "      <td>UDAXI</td>\n",
              "      <td>2025-06-25 18:00:00</td>\n",
              "      <td>0.0</td>\n",
              "      <td>station_A</td>\n",
              "      <td>Comienzo de ruta</td>\n",
              "      <td>_</td>\n",
              "      <td>590.056</td>\n",
              "      <td>True</td>\n",
              "    </tr>\n",
              "    <tr>\n",
              "      <th>3</th>\n",
              "      <td>3</td>\n",
              "      <td>OTSN5U4W9R</td>\n",
              "      <td>VXRCS</td>\n",
              "      <td>2024-09-06 13:16:24</td>\n",
              "      <td>0.0</td>\n",
              "      <td>station_D</td>\n",
              "      <td>Llegada de vagones</td>\n",
              "      <td>Electronics</td>\n",
              "      <td>1031.616</td>\n",
              "      <td>True</td>\n",
              "    </tr>\n",
              "    <tr>\n",
              "      <th>4</th>\n",
              "      <td>4</td>\n",
              "      <td>87C7G23CP7</td>\n",
              "      <td>HHEXD</td>\n",
              "      <td>2025-02-06 15:21:28</td>\n",
              "      <td>0.0</td>\n",
              "      <td>station_G</td>\n",
              "      <td>Llegada de vagones</td>\n",
              "      <td>Machinery</td>\n",
              "      <td>179.750</td>\n",
              "      <td>True</td>\n",
              "    </tr>\n",
              "  </tbody>\n",
              "</table>\n",
              "</div>\n",
              "    <div class=\"colab-df-buttons\">\n",
              "\n",
              "  <div class=\"colab-df-container\">\n",
              "    <button class=\"colab-df-convert\" onclick=\"convertToInteractive('df-998139cc-7890-4694-8e26-da7769da0f82')\"\n",
              "            title=\"Convert this dataframe to an interactive table.\"\n",
              "            style=\"display:none;\">\n",
              "\n",
              "  <svg xmlns=\"http://www.w3.org/2000/svg\" height=\"24px\" viewBox=\"0 -960 960 960\">\n",
              "    <path d=\"M120-120v-720h720v720H120Zm60-500h600v-160H180v160Zm220 220h160v-160H400v160Zm0 220h160v-160H400v160ZM180-400h160v-160H180v160Zm440 0h160v-160H620v160ZM180-180h160v-160H180v160Zm440 0h160v-160H620v160Z\"/>\n",
              "  </svg>\n",
              "    </button>\n",
              "\n",
              "  <style>\n",
              "    .colab-df-container {\n",
              "      display:flex;\n",
              "      gap: 12px;\n",
              "    }\n",
              "\n",
              "    .colab-df-convert {\n",
              "      background-color: #E8F0FE;\n",
              "      border: none;\n",
              "      border-radius: 50%;\n",
              "      cursor: pointer;\n",
              "      display: none;\n",
              "      fill: #1967D2;\n",
              "      height: 32px;\n",
              "      padding: 0 0 0 0;\n",
              "      width: 32px;\n",
              "    }\n",
              "\n",
              "    .colab-df-convert:hover {\n",
              "      background-color: #E2EBFA;\n",
              "      box-shadow: 0px 1px 2px rgba(60, 64, 67, 0.3), 0px 1px 3px 1px rgba(60, 64, 67, 0.15);\n",
              "      fill: #174EA6;\n",
              "    }\n",
              "\n",
              "    .colab-df-buttons div {\n",
              "      margin-bottom: 4px;\n",
              "    }\n",
              "\n",
              "    [theme=dark] .colab-df-convert {\n",
              "      background-color: #3B4455;\n",
              "      fill: #D2E3FC;\n",
              "    }\n",
              "\n",
              "    [theme=dark] .colab-df-convert:hover {\n",
              "      background-color: #434B5C;\n",
              "      box-shadow: 0px 1px 3px 1px rgba(0, 0, 0, 0.15);\n",
              "      filter: drop-shadow(0px 1px 2px rgba(0, 0, 0, 0.3));\n",
              "      fill: #FFFFFF;\n",
              "    }\n",
              "  </style>\n",
              "\n",
              "    <script>\n",
              "      const buttonEl =\n",
              "        document.querySelector('#df-998139cc-7890-4694-8e26-da7769da0f82 button.colab-df-convert');\n",
              "      buttonEl.style.display =\n",
              "        google.colab.kernel.accessAllowed ? 'block' : 'none';\n",
              "\n",
              "      async function convertToInteractive(key) {\n",
              "        const element = document.querySelector('#df-998139cc-7890-4694-8e26-da7769da0f82');\n",
              "        const dataTable =\n",
              "          await google.colab.kernel.invokeFunction('convertToInteractive',\n",
              "                                                    [key], {});\n",
              "        if (!dataTable) return;\n",
              "\n",
              "        const docLinkHtml = 'Like what you see? Visit the ' +\n",
              "          '<a target=\"_blank\" href=https://colab.research.google.com/notebooks/data_table.ipynb>data table notebook</a>'\n",
              "          + ' to learn more about interactive tables.';\n",
              "        element.innerHTML = '';\n",
              "        dataTable['output_type'] = 'display_data';\n",
              "        await google.colab.output.renderOutput(dataTable, element);\n",
              "        const docLink = document.createElement('div');\n",
              "        docLink.innerHTML = docLinkHtml;\n",
              "        element.appendChild(docLink);\n",
              "      }\n",
              "    </script>\n",
              "  </div>\n",
              "\n",
              "\n",
              "    <div id=\"df-ac502f63-97f8-445b-96c5-b13bced1ab64\">\n",
              "      <button class=\"colab-df-quickchart\" onclick=\"quickchart('df-ac502f63-97f8-445b-96c5-b13bced1ab64')\"\n",
              "                title=\"Suggest charts\"\n",
              "                style=\"display:none;\">\n",
              "\n",
              "<svg xmlns=\"http://www.w3.org/2000/svg\" height=\"24px\"viewBox=\"0 0 24 24\"\n",
              "     width=\"24px\">\n",
              "    <g>\n",
              "        <path d=\"M19 3H5c-1.1 0-2 .9-2 2v14c0 1.1.9 2 2 2h14c1.1 0 2-.9 2-2V5c0-1.1-.9-2-2-2zM9 17H7v-7h2v7zm4 0h-2V7h2v10zm4 0h-2v-4h2v4z\"/>\n",
              "    </g>\n",
              "</svg>\n",
              "      </button>\n",
              "\n",
              "<style>\n",
              "  .colab-df-quickchart {\n",
              "      --bg-color: #E8F0FE;\n",
              "      --fill-color: #1967D2;\n",
              "      --hover-bg-color: #E2EBFA;\n",
              "      --hover-fill-color: #174EA6;\n",
              "      --disabled-fill-color: #AAA;\n",
              "      --disabled-bg-color: #DDD;\n",
              "  }\n",
              "\n",
              "  [theme=dark] .colab-df-quickchart {\n",
              "      --bg-color: #3B4455;\n",
              "      --fill-color: #D2E3FC;\n",
              "      --hover-bg-color: #434B5C;\n",
              "      --hover-fill-color: #FFFFFF;\n",
              "      --disabled-bg-color: #3B4455;\n",
              "      --disabled-fill-color: #666;\n",
              "  }\n",
              "\n",
              "  .colab-df-quickchart {\n",
              "    background-color: var(--bg-color);\n",
              "    border: none;\n",
              "    border-radius: 50%;\n",
              "    cursor: pointer;\n",
              "    display: none;\n",
              "    fill: var(--fill-color);\n",
              "    height: 32px;\n",
              "    padding: 0;\n",
              "    width: 32px;\n",
              "  }\n",
              "\n",
              "  .colab-df-quickchart:hover {\n",
              "    background-color: var(--hover-bg-color);\n",
              "    box-shadow: 0 1px 2px rgba(60, 64, 67, 0.3), 0 1px 3px 1px rgba(60, 64, 67, 0.15);\n",
              "    fill: var(--button-hover-fill-color);\n",
              "  }\n",
              "\n",
              "  .colab-df-quickchart-complete:disabled,\n",
              "  .colab-df-quickchart-complete:disabled:hover {\n",
              "    background-color: var(--disabled-bg-color);\n",
              "    fill: var(--disabled-fill-color);\n",
              "    box-shadow: none;\n",
              "  }\n",
              "\n",
              "  .colab-df-spinner {\n",
              "    border: 2px solid var(--fill-color);\n",
              "    border-color: transparent;\n",
              "    border-bottom-color: var(--fill-color);\n",
              "    animation:\n",
              "      spin 1s steps(1) infinite;\n",
              "  }\n",
              "\n",
              "  @keyframes spin {\n",
              "    0% {\n",
              "      border-color: transparent;\n",
              "      border-bottom-color: var(--fill-color);\n",
              "      border-left-color: var(--fill-color);\n",
              "    }\n",
              "    20% {\n",
              "      border-color: transparent;\n",
              "      border-left-color: var(--fill-color);\n",
              "      border-top-color: var(--fill-color);\n",
              "    }\n",
              "    30% {\n",
              "      border-color: transparent;\n",
              "      border-left-color: var(--fill-color);\n",
              "      border-top-color: var(--fill-color);\n",
              "      border-right-color: var(--fill-color);\n",
              "    }\n",
              "    40% {\n",
              "      border-color: transparent;\n",
              "      border-right-color: var(--fill-color);\n",
              "      border-top-color: var(--fill-color);\n",
              "    }\n",
              "    60% {\n",
              "      border-color: transparent;\n",
              "      border-right-color: var(--fill-color);\n",
              "    }\n",
              "    80% {\n",
              "      border-color: transparent;\n",
              "      border-right-color: var(--fill-color);\n",
              "      border-bottom-color: var(--fill-color);\n",
              "    }\n",
              "    90% {\n",
              "      border-color: transparent;\n",
              "      border-bottom-color: var(--fill-color);\n",
              "    }\n",
              "  }\n",
              "</style>\n",
              "\n",
              "      <script>\n",
              "        async function quickchart(key) {\n",
              "          const quickchartButtonEl =\n",
              "            document.querySelector('#' + key + ' button');\n",
              "          quickchartButtonEl.disabled = true;  // To prevent multiple clicks.\n",
              "          quickchartButtonEl.classList.add('colab-df-spinner');\n",
              "          try {\n",
              "            const charts = await google.colab.kernel.invokeFunction(\n",
              "                'suggestCharts', [key], {});\n",
              "          } catch (error) {\n",
              "            console.error('Error during call to suggestCharts:', error);\n",
              "          }\n",
              "          quickchartButtonEl.classList.remove('colab-df-spinner');\n",
              "          quickchartButtonEl.classList.add('colab-df-quickchart-complete');\n",
              "        }\n",
              "        (() => {\n",
              "          let quickchartButtonEl =\n",
              "            document.querySelector('#df-ac502f63-97f8-445b-96c5-b13bced1ab64 button');\n",
              "          quickchartButtonEl.style.display =\n",
              "            google.colab.kernel.accessAllowed ? 'block' : 'none';\n",
              "        })();\n",
              "      </script>\n",
              "    </div>\n",
              "\n",
              "    </div>\n",
              "  </div>\n"
            ],
            "application/vnd.google.colaboratory.intrinsic+json": {
              "type": "dataframe",
              "variable_name": "df",
              "summary": "{\n  \"name\": \"df\",\n  \"rows\": 15426,\n  \"fields\": [\n    {\n      \"column\": \"Unnamed: 0\",\n      \"properties\": {\n        \"dtype\": \"number\",\n        \"std\": 4453,\n        \"min\": 0,\n        \"max\": 15425,\n        \"num_unique_values\": 15426,\n        \"samples\": [\n          2183,\n          8061,\n          2616\n        ],\n        \"semantic_type\": \"\",\n        \"description\": \"\"\n      }\n    },\n    {\n      \"column\": \"trip_id\",\n      \"properties\": {\n        \"dtype\": \"category\",\n        \"num_unique_values\": 778,\n        \"samples\": [\n          \"90SJMVOYP5\",\n          \"7OODG0V4GI\",\n          \"E59NLC0QYP\"\n        ],\n        \"semantic_type\": \"\",\n        \"description\": \"\"\n      }\n    },\n    {\n      \"column\": \"train_name\",\n      \"properties\": {\n        \"dtype\": \"category\",\n        \"num_unique_values\": 3,\n        \"samples\": [\n          \"VXRCS\",\n          \"UDAXI\",\n          \"HHEXD\"\n        ],\n        \"semantic_type\": \"\",\n        \"description\": \"\"\n      }\n    },\n    {\n      \"column\": \"date\",\n      \"properties\": {\n        \"dtype\": \"object\",\n        \"num_unique_values\": 8718,\n        \"samples\": [\n          \"2025-08-06 18:16:20\",\n          \"2024-08-30 21:59:31\",\n          \"2024-06-13 20:10:35\"\n        ],\n        \"semantic_type\": \"\",\n        \"description\": \"\"\n      }\n    },\n    {\n      \"column\": \"cargo\",\n      \"properties\": {\n        \"dtype\": \"number\",\n        \"std\": 20.306529863530823,\n        \"min\": -50.0,\n        \"max\": 100.0,\n        \"num_unique_values\": 108,\n        \"samples\": [\n          69.0,\n          8.0,\n          32.0\n        ],\n        \"semantic_type\": \"\",\n        \"description\": \"\"\n      }\n    },\n    {\n      \"column\": \"station_id\",\n      \"properties\": {\n        \"dtype\": \"category\",\n        \"num_unique_values\": 7,\n        \"samples\": [\n          \"station_B\",\n          \"station_E\",\n          \"station_C\"\n        ],\n        \"semantic_type\": \"\",\n        \"description\": \"\"\n      }\n    },\n    {\n      \"column\": \"event\",\n      \"properties\": {\n        \"dtype\": \"category\",\n        \"num_unique_values\": 6,\n        \"samples\": [\n          \"Descarga de vagones\",\n          \"Comienzo de ruta\",\n          \"Final de ruta\"\n        ],\n        \"semantic_type\": \"\",\n        \"description\": \"\"\n      }\n    },\n    {\n      \"column\": \"cargo_type\",\n      \"properties\": {\n        \"dtype\": \"category\",\n        \"num_unique_values\": 6,\n        \"samples\": [\n          \"Textiles\",\n          \"Machinery\",\n          \"Chemicals\"\n        ],\n        \"semantic_type\": \"\",\n        \"description\": \"\"\n      }\n    },\n    {\n      \"column\": \"fuel_level\",\n      \"properties\": {\n        \"dtype\": \"number\",\n        \"std\": 331.8747928370623,\n        \"min\": -195.0,\n        \"max\": 8731.0,\n        \"num_unique_values\": 4182,\n        \"samples\": [\n          517.0240000000001,\n          577.5,\n          416.0750000000001\n        ],\n        \"semantic_type\": \"\",\n        \"description\": \"\"\n      }\n    },\n    {\n      \"column\": \"ended\",\n      \"properties\": {\n        \"dtype\": \"boolean\",\n        \"num_unique_values\": 1,\n        \"samples\": [\n          true\n        ],\n        \"semantic_type\": \"\",\n        \"description\": \"\"\n      }\n    }\n  ]\n}"
            }
          },
          "metadata": {},
          "execution_count": 54
        }
      ],
      "source": [
        "df.head()"
      ]
    },
    {
      "cell_type": "code",
      "execution_count": 55,
      "metadata": {
        "scrolled": true,
        "id": "WVKNkbQzjnqz",
        "outputId": "c48cef44-eac9-47dd-a149-58965b4eed29",
        "colab": {
          "base_uri": "https://localhost:8080/",
          "height": 209
        }
      },
      "outputs": [
        {
          "output_type": "execute_result",
          "data": {
            "text/plain": [
              "count                 15426\n",
              "unique                    6\n",
              "top       Salida de vagones\n",
              "freq                   4413\n",
              "Name: event, dtype: object"
            ],
            "text/html": [
              "<div>\n",
              "<style scoped>\n",
              "    .dataframe tbody tr th:only-of-type {\n",
              "        vertical-align: middle;\n",
              "    }\n",
              "\n",
              "    .dataframe tbody tr th {\n",
              "        vertical-align: top;\n",
              "    }\n",
              "\n",
              "    .dataframe thead th {\n",
              "        text-align: right;\n",
              "    }\n",
              "</style>\n",
              "<table border=\"1\" class=\"dataframe\">\n",
              "  <thead>\n",
              "    <tr style=\"text-align: right;\">\n",
              "      <th></th>\n",
              "      <th>event</th>\n",
              "    </tr>\n",
              "  </thead>\n",
              "  <tbody>\n",
              "    <tr>\n",
              "      <th>count</th>\n",
              "      <td>15426</td>\n",
              "    </tr>\n",
              "    <tr>\n",
              "      <th>unique</th>\n",
              "      <td>6</td>\n",
              "    </tr>\n",
              "    <tr>\n",
              "      <th>top</th>\n",
              "      <td>Salida de vagones</td>\n",
              "    </tr>\n",
              "    <tr>\n",
              "      <th>freq</th>\n",
              "      <td>4413</td>\n",
              "    </tr>\n",
              "  </tbody>\n",
              "</table>\n",
              "</div><br><label><b>dtype:</b> object</label>"
            ]
          },
          "metadata": {},
          "execution_count": 55
        }
      ],
      "source": [
        "df.event.describe()"
      ]
    },
    {
      "cell_type": "code",
      "execution_count": 56,
      "metadata": {
        "id": "MFTboJSmjnqz",
        "outputId": "43c20738-6b4e-4666-932e-2906f2fee0a6",
        "colab": {
          "base_uri": "https://localhost:8080/"
        }
      },
      "outputs": [
        {
          "output_type": "stream",
          "name": "stdout",
          "text": [
            "<class 'pandas.core.frame.DataFrame'>\n",
            "RangeIndex: 15426 entries, 0 to 15425\n",
            "Data columns (total 10 columns):\n",
            " #   Column      Non-Null Count  Dtype  \n",
            "---  ------      --------------  -----  \n",
            " 0   Unnamed: 0  15426 non-null  int64  \n",
            " 1   trip_id     15426 non-null  object \n",
            " 2   train_name  15426 non-null  object \n",
            " 3   date        15426 non-null  object \n",
            " 4   cargo       15415 non-null  float64\n",
            " 5   station_id  15426 non-null  object \n",
            " 6   event       15426 non-null  object \n",
            " 7   cargo_type  15426 non-null  object \n",
            " 8   fuel_level  15417 non-null  float64\n",
            " 9   ended       15426 non-null  bool   \n",
            "dtypes: bool(1), float64(2), int64(1), object(6)\n",
            "memory usage: 1.1+ MB\n"
          ]
        }
      ],
      "source": [
        "df.info(show_counts=True)"
      ]
    },
    {
      "cell_type": "code",
      "execution_count": 57,
      "metadata": {
        "id": "K17_TEN9jnqz",
        "outputId": "0aee213b-ca8c-44b9-d81a-25171deb9878",
        "colab": {
          "base_uri": "https://localhost:8080/",
          "height": 300
        }
      },
      "outputs": [
        {
          "output_type": "execute_result",
          "data": {
            "text/plain": [
              "         Unnamed: 0         cargo    fuel_level\n",
              "count  15426.000000  15415.000000  15417.000000\n",
              "mean    7712.500000     13.521894    606.365736\n",
              "std     4453.246961     20.306530    331.874793\n",
              "min        0.000000    -50.000000   -195.000000\n",
              "25%     3856.250000      0.000000    353.672000\n",
              "50%     7712.500000      3.000000    652.960000\n",
              "75%    11568.750000     19.000000    863.616000\n",
              "max    15425.000000    100.000000   8731.000000"
            ],
            "text/html": [
              "\n",
              "  <div id=\"df-729f3b64-be57-4a5a-9e4a-7de63964c392\" class=\"colab-df-container\">\n",
              "    <div>\n",
              "<style scoped>\n",
              "    .dataframe tbody tr th:only-of-type {\n",
              "        vertical-align: middle;\n",
              "    }\n",
              "\n",
              "    .dataframe tbody tr th {\n",
              "        vertical-align: top;\n",
              "    }\n",
              "\n",
              "    .dataframe thead th {\n",
              "        text-align: right;\n",
              "    }\n",
              "</style>\n",
              "<table border=\"1\" class=\"dataframe\">\n",
              "  <thead>\n",
              "    <tr style=\"text-align: right;\">\n",
              "      <th></th>\n",
              "      <th>Unnamed: 0</th>\n",
              "      <th>cargo</th>\n",
              "      <th>fuel_level</th>\n",
              "    </tr>\n",
              "  </thead>\n",
              "  <tbody>\n",
              "    <tr>\n",
              "      <th>count</th>\n",
              "      <td>15426.000000</td>\n",
              "      <td>15415.000000</td>\n",
              "      <td>15417.000000</td>\n",
              "    </tr>\n",
              "    <tr>\n",
              "      <th>mean</th>\n",
              "      <td>7712.500000</td>\n",
              "      <td>13.521894</td>\n",
              "      <td>606.365736</td>\n",
              "    </tr>\n",
              "    <tr>\n",
              "      <th>std</th>\n",
              "      <td>4453.246961</td>\n",
              "      <td>20.306530</td>\n",
              "      <td>331.874793</td>\n",
              "    </tr>\n",
              "    <tr>\n",
              "      <th>min</th>\n",
              "      <td>0.000000</td>\n",
              "      <td>-50.000000</td>\n",
              "      <td>-195.000000</td>\n",
              "    </tr>\n",
              "    <tr>\n",
              "      <th>25%</th>\n",
              "      <td>3856.250000</td>\n",
              "      <td>0.000000</td>\n",
              "      <td>353.672000</td>\n",
              "    </tr>\n",
              "    <tr>\n",
              "      <th>50%</th>\n",
              "      <td>7712.500000</td>\n",
              "      <td>3.000000</td>\n",
              "      <td>652.960000</td>\n",
              "    </tr>\n",
              "    <tr>\n",
              "      <th>75%</th>\n",
              "      <td>11568.750000</td>\n",
              "      <td>19.000000</td>\n",
              "      <td>863.616000</td>\n",
              "    </tr>\n",
              "    <tr>\n",
              "      <th>max</th>\n",
              "      <td>15425.000000</td>\n",
              "      <td>100.000000</td>\n",
              "      <td>8731.000000</td>\n",
              "    </tr>\n",
              "  </tbody>\n",
              "</table>\n",
              "</div>\n",
              "    <div class=\"colab-df-buttons\">\n",
              "\n",
              "  <div class=\"colab-df-container\">\n",
              "    <button class=\"colab-df-convert\" onclick=\"convertToInteractive('df-729f3b64-be57-4a5a-9e4a-7de63964c392')\"\n",
              "            title=\"Convert this dataframe to an interactive table.\"\n",
              "            style=\"display:none;\">\n",
              "\n",
              "  <svg xmlns=\"http://www.w3.org/2000/svg\" height=\"24px\" viewBox=\"0 -960 960 960\">\n",
              "    <path d=\"M120-120v-720h720v720H120Zm60-500h600v-160H180v160Zm220 220h160v-160H400v160Zm0 220h160v-160H400v160ZM180-400h160v-160H180v160Zm440 0h160v-160H620v160ZM180-180h160v-160H180v160Zm440 0h160v-160H620v160Z\"/>\n",
              "  </svg>\n",
              "    </button>\n",
              "\n",
              "  <style>\n",
              "    .colab-df-container {\n",
              "      display:flex;\n",
              "      gap: 12px;\n",
              "    }\n",
              "\n",
              "    .colab-df-convert {\n",
              "      background-color: #E8F0FE;\n",
              "      border: none;\n",
              "      border-radius: 50%;\n",
              "      cursor: pointer;\n",
              "      display: none;\n",
              "      fill: #1967D2;\n",
              "      height: 32px;\n",
              "      padding: 0 0 0 0;\n",
              "      width: 32px;\n",
              "    }\n",
              "\n",
              "    .colab-df-convert:hover {\n",
              "      background-color: #E2EBFA;\n",
              "      box-shadow: 0px 1px 2px rgba(60, 64, 67, 0.3), 0px 1px 3px 1px rgba(60, 64, 67, 0.15);\n",
              "      fill: #174EA6;\n",
              "    }\n",
              "\n",
              "    .colab-df-buttons div {\n",
              "      margin-bottom: 4px;\n",
              "    }\n",
              "\n",
              "    [theme=dark] .colab-df-convert {\n",
              "      background-color: #3B4455;\n",
              "      fill: #D2E3FC;\n",
              "    }\n",
              "\n",
              "    [theme=dark] .colab-df-convert:hover {\n",
              "      background-color: #434B5C;\n",
              "      box-shadow: 0px 1px 3px 1px rgba(0, 0, 0, 0.15);\n",
              "      filter: drop-shadow(0px 1px 2px rgba(0, 0, 0, 0.3));\n",
              "      fill: #FFFFFF;\n",
              "    }\n",
              "  </style>\n",
              "\n",
              "    <script>\n",
              "      const buttonEl =\n",
              "        document.querySelector('#df-729f3b64-be57-4a5a-9e4a-7de63964c392 button.colab-df-convert');\n",
              "      buttonEl.style.display =\n",
              "        google.colab.kernel.accessAllowed ? 'block' : 'none';\n",
              "\n",
              "      async function convertToInteractive(key) {\n",
              "        const element = document.querySelector('#df-729f3b64-be57-4a5a-9e4a-7de63964c392');\n",
              "        const dataTable =\n",
              "          await google.colab.kernel.invokeFunction('convertToInteractive',\n",
              "                                                    [key], {});\n",
              "        if (!dataTable) return;\n",
              "\n",
              "        const docLinkHtml = 'Like what you see? Visit the ' +\n",
              "          '<a target=\"_blank\" href=https://colab.research.google.com/notebooks/data_table.ipynb>data table notebook</a>'\n",
              "          + ' to learn more about interactive tables.';\n",
              "        element.innerHTML = '';\n",
              "        dataTable['output_type'] = 'display_data';\n",
              "        await google.colab.output.renderOutput(dataTable, element);\n",
              "        const docLink = document.createElement('div');\n",
              "        docLink.innerHTML = docLinkHtml;\n",
              "        element.appendChild(docLink);\n",
              "      }\n",
              "    </script>\n",
              "  </div>\n",
              "\n",
              "\n",
              "    <div id=\"df-d52dabc9-c1de-48ce-a36d-d810b6ff8114\">\n",
              "      <button class=\"colab-df-quickchart\" onclick=\"quickchart('df-d52dabc9-c1de-48ce-a36d-d810b6ff8114')\"\n",
              "                title=\"Suggest charts\"\n",
              "                style=\"display:none;\">\n",
              "\n",
              "<svg xmlns=\"http://www.w3.org/2000/svg\" height=\"24px\"viewBox=\"0 0 24 24\"\n",
              "     width=\"24px\">\n",
              "    <g>\n",
              "        <path d=\"M19 3H5c-1.1 0-2 .9-2 2v14c0 1.1.9 2 2 2h14c1.1 0 2-.9 2-2V5c0-1.1-.9-2-2-2zM9 17H7v-7h2v7zm4 0h-2V7h2v10zm4 0h-2v-4h2v4z\"/>\n",
              "    </g>\n",
              "</svg>\n",
              "      </button>\n",
              "\n",
              "<style>\n",
              "  .colab-df-quickchart {\n",
              "      --bg-color: #E8F0FE;\n",
              "      --fill-color: #1967D2;\n",
              "      --hover-bg-color: #E2EBFA;\n",
              "      --hover-fill-color: #174EA6;\n",
              "      --disabled-fill-color: #AAA;\n",
              "      --disabled-bg-color: #DDD;\n",
              "  }\n",
              "\n",
              "  [theme=dark] .colab-df-quickchart {\n",
              "      --bg-color: #3B4455;\n",
              "      --fill-color: #D2E3FC;\n",
              "      --hover-bg-color: #434B5C;\n",
              "      --hover-fill-color: #FFFFFF;\n",
              "      --disabled-bg-color: #3B4455;\n",
              "      --disabled-fill-color: #666;\n",
              "  }\n",
              "\n",
              "  .colab-df-quickchart {\n",
              "    background-color: var(--bg-color);\n",
              "    border: none;\n",
              "    border-radius: 50%;\n",
              "    cursor: pointer;\n",
              "    display: none;\n",
              "    fill: var(--fill-color);\n",
              "    height: 32px;\n",
              "    padding: 0;\n",
              "    width: 32px;\n",
              "  }\n",
              "\n",
              "  .colab-df-quickchart:hover {\n",
              "    background-color: var(--hover-bg-color);\n",
              "    box-shadow: 0 1px 2px rgba(60, 64, 67, 0.3), 0 1px 3px 1px rgba(60, 64, 67, 0.15);\n",
              "    fill: var(--button-hover-fill-color);\n",
              "  }\n",
              "\n",
              "  .colab-df-quickchart-complete:disabled,\n",
              "  .colab-df-quickchart-complete:disabled:hover {\n",
              "    background-color: var(--disabled-bg-color);\n",
              "    fill: var(--disabled-fill-color);\n",
              "    box-shadow: none;\n",
              "  }\n",
              "\n",
              "  .colab-df-spinner {\n",
              "    border: 2px solid var(--fill-color);\n",
              "    border-color: transparent;\n",
              "    border-bottom-color: var(--fill-color);\n",
              "    animation:\n",
              "      spin 1s steps(1) infinite;\n",
              "  }\n",
              "\n",
              "  @keyframes spin {\n",
              "    0% {\n",
              "      border-color: transparent;\n",
              "      border-bottom-color: var(--fill-color);\n",
              "      border-left-color: var(--fill-color);\n",
              "    }\n",
              "    20% {\n",
              "      border-color: transparent;\n",
              "      border-left-color: var(--fill-color);\n",
              "      border-top-color: var(--fill-color);\n",
              "    }\n",
              "    30% {\n",
              "      border-color: transparent;\n",
              "      border-left-color: var(--fill-color);\n",
              "      border-top-color: var(--fill-color);\n",
              "      border-right-color: var(--fill-color);\n",
              "    }\n",
              "    40% {\n",
              "      border-color: transparent;\n",
              "      border-right-color: var(--fill-color);\n",
              "      border-top-color: var(--fill-color);\n",
              "    }\n",
              "    60% {\n",
              "      border-color: transparent;\n",
              "      border-right-color: var(--fill-color);\n",
              "    }\n",
              "    80% {\n",
              "      border-color: transparent;\n",
              "      border-right-color: var(--fill-color);\n",
              "      border-bottom-color: var(--fill-color);\n",
              "    }\n",
              "    90% {\n",
              "      border-color: transparent;\n",
              "      border-bottom-color: var(--fill-color);\n",
              "    }\n",
              "  }\n",
              "</style>\n",
              "\n",
              "      <script>\n",
              "        async function quickchart(key) {\n",
              "          const quickchartButtonEl =\n",
              "            document.querySelector('#' + key + ' button');\n",
              "          quickchartButtonEl.disabled = true;  // To prevent multiple clicks.\n",
              "          quickchartButtonEl.classList.add('colab-df-spinner');\n",
              "          try {\n",
              "            const charts = await google.colab.kernel.invokeFunction(\n",
              "                'suggestCharts', [key], {});\n",
              "          } catch (error) {\n",
              "            console.error('Error during call to suggestCharts:', error);\n",
              "          }\n",
              "          quickchartButtonEl.classList.remove('colab-df-spinner');\n",
              "          quickchartButtonEl.classList.add('colab-df-quickchart-complete');\n",
              "        }\n",
              "        (() => {\n",
              "          let quickchartButtonEl =\n",
              "            document.querySelector('#df-d52dabc9-c1de-48ce-a36d-d810b6ff8114 button');\n",
              "          quickchartButtonEl.style.display =\n",
              "            google.colab.kernel.accessAllowed ? 'block' : 'none';\n",
              "        })();\n",
              "      </script>\n",
              "    </div>\n",
              "\n",
              "    </div>\n",
              "  </div>\n"
            ],
            "application/vnd.google.colaboratory.intrinsic+json": {
              "type": "dataframe",
              "summary": "{\n  \"name\": \"df\",\n  \"rows\": 8,\n  \"fields\": [\n    {\n      \"column\": \"Unnamed: 0\",\n      \"properties\": {\n        \"dtype\": \"number\",\n        \"std\": 5559.38606251768,\n        \"min\": 0.0,\n        \"max\": 15426.0,\n        \"num_unique_values\": 7,\n        \"samples\": [\n          15426.0,\n          7712.5,\n          11568.75\n        ],\n        \"semantic_type\": \"\",\n        \"description\": \"\"\n      }\n    },\n    {\n      \"column\": \"cargo\",\n      \"properties\": {\n        \"dtype\": \"number\",\n        \"std\": 5444.836030922181,\n        \"min\": -50.0,\n        \"max\": 15415.0,\n        \"num_unique_values\": 8,\n        \"samples\": [\n          13.521894258838794,\n          3.0,\n          15415.0\n        ],\n        \"semantic_type\": \"\",\n        \"description\": \"\"\n      }\n    },\n    {\n      \"column\": \"fuel_level\",\n      \"properties\": {\n        \"dtype\": \"number\",\n        \"std\": 5684.631034483714,\n        \"min\": -195.0,\n        \"max\": 15417.0,\n        \"num_unique_values\": 8,\n        \"samples\": [\n          606.3657363948888,\n          652.9599999999999,\n          15417.0\n        ],\n        \"semantic_type\": \"\",\n        \"description\": \"\"\n      }\n    }\n  ]\n}"
            }
          },
          "metadata": {},
          "execution_count": 57
        }
      ],
      "source": [
        "df.describe()"
      ]
    },
    {
      "cell_type": "code",
      "execution_count": 58,
      "metadata": {
        "id": "AsaMjNzGjnq0"
      },
      "outputs": [],
      "source": [
        "# Use as many cells as you need for your exploration"
      ]
    },
    {
      "cell_type": "markdown",
      "metadata": {
        "id": "VPFQBAFCjnq0"
      },
      "source": [
        "# Data Cleaning\n",
        "After a first view of the data and before starting to work with it, we must clean it. This process is called preprocessing, and it is crucial to be able to obtain good results. We will discard invalid data, fill missing values, drop redundant information, correct typos, etc. We need to create a data set with the following restrictions.\n",
        "\n",
        "* All columns must contain relevant information. If a column does not contain relevant information, it should be removed using the method `data.drop(columns = [column_name])` (https://pandas.pydata.org/docs/reference/api/pandas.DataFrame.drop.html)\n",
        "* Duplicate rows should be removed using the method `data.drop_duplicates()` (https://pandas.pydata.org/docs/reference/api/pandas.DataFrame.drop_duplicates.html)\n",
        "* Rows with future dates (after September 30, 2025) should be eliminated\n",
        "* All fields should have a valid value.\n",
        "* String columns cannot be empty or null\n",
        "* Numeric columns should be in the correct ranges. The maximum cargo is 200 and the maximum fuel 2000.\n",
        "* Rows with null or incorrect values should be discarded (https://pandas.pydata.org/pandas-docs/stable/user_guide/missing_data.html). This includes rows with illegal values according to the dataset description (e.g. a negative number of items).\n",
        "* The types of the columns must correspond to the type of data they contain (https://pandas.pydata.org/pandas-docs/stable/reference/api/pandas.DataFrame.astype.html)\n",
        "\n",
        "Python and Pandas have a multitude of methods that make it easier to work with dates. In this workshop, it can be useful to use methods that allow us to obtain certain fragments of a date (hour of day, the day of the week, etc.) https://docs.python.org/3/library/datetime.html. An effective way to apply a change to an entire column is with a syntax like `df.date.dt.hour`, which allows us to get the hour of the dates in the column `date`"
      ]
    },
    {
      "cell_type": "code",
      "source": [
        "df = df.drop(columns=[\"Unnamed: 0\"])"
      ],
      "metadata": {
        "id": "JzP05AH4nGzv"
      },
      "execution_count": 59,
      "outputs": []
    },
    {
      "cell_type": "code",
      "source": [
        "df = df.drop_duplicates()\n",
        "df.event.describe()"
      ],
      "metadata": {
        "id": "Yjn91F8CnLRU",
        "outputId": "6b6304f0-10c7-4898-d417-35619b754615",
        "colab": {
          "base_uri": "https://localhost:8080/",
          "height": 209
        }
      },
      "execution_count": 60,
      "outputs": [
        {
          "output_type": "execute_result",
          "data": {
            "text/plain": [
              "count                 15418\n",
              "unique                    6\n",
              "top       Salida de vagones\n",
              "freq                   4408\n",
              "Name: event, dtype: object"
            ],
            "text/html": [
              "<div>\n",
              "<style scoped>\n",
              "    .dataframe tbody tr th:only-of-type {\n",
              "        vertical-align: middle;\n",
              "    }\n",
              "\n",
              "    .dataframe tbody tr th {\n",
              "        vertical-align: top;\n",
              "    }\n",
              "\n",
              "    .dataframe thead th {\n",
              "        text-align: right;\n",
              "    }\n",
              "</style>\n",
              "<table border=\"1\" class=\"dataframe\">\n",
              "  <thead>\n",
              "    <tr style=\"text-align: right;\">\n",
              "      <th></th>\n",
              "      <th>event</th>\n",
              "    </tr>\n",
              "  </thead>\n",
              "  <tbody>\n",
              "    <tr>\n",
              "      <th>count</th>\n",
              "      <td>15418</td>\n",
              "    </tr>\n",
              "    <tr>\n",
              "      <th>unique</th>\n",
              "      <td>6</td>\n",
              "    </tr>\n",
              "    <tr>\n",
              "      <th>top</th>\n",
              "      <td>Salida de vagones</td>\n",
              "    </tr>\n",
              "    <tr>\n",
              "      <th>freq</th>\n",
              "      <td>4408</td>\n",
              "    </tr>\n",
              "  </tbody>\n",
              "</table>\n",
              "</div><br><label><b>dtype:</b> object</label>"
            ]
          },
          "metadata": {},
          "execution_count": 60
        }
      ]
    },
    {
      "cell_type": "code",
      "source": [
        "df['date'] = pd.to_datetime(df['date'], errors='coerce')\n",
        "df = df[df['date'] <= pd.Timestamp(\"2025-09-30\")]\n",
        "df.event.describe()"
      ],
      "metadata": {
        "id": "AvhSxkf4nWX_",
        "outputId": "bad81268-23a1-416d-e9ad-ca3dcda12729",
        "colab": {
          "base_uri": "https://localhost:8080/",
          "height": 209
        }
      },
      "execution_count": 61,
      "outputs": [
        {
          "output_type": "execute_result",
          "data": {
            "text/plain": [
              "count                 15412\n",
              "unique                    6\n",
              "top       Salida de vagones\n",
              "freq                   4407\n",
              "Name: event, dtype: object"
            ],
            "text/html": [
              "<div>\n",
              "<style scoped>\n",
              "    .dataframe tbody tr th:only-of-type {\n",
              "        vertical-align: middle;\n",
              "    }\n",
              "\n",
              "    .dataframe tbody tr th {\n",
              "        vertical-align: top;\n",
              "    }\n",
              "\n",
              "    .dataframe thead th {\n",
              "        text-align: right;\n",
              "    }\n",
              "</style>\n",
              "<table border=\"1\" class=\"dataframe\">\n",
              "  <thead>\n",
              "    <tr style=\"text-align: right;\">\n",
              "      <th></th>\n",
              "      <th>event</th>\n",
              "    </tr>\n",
              "  </thead>\n",
              "  <tbody>\n",
              "    <tr>\n",
              "      <th>count</th>\n",
              "      <td>15412</td>\n",
              "    </tr>\n",
              "    <tr>\n",
              "      <th>unique</th>\n",
              "      <td>6</td>\n",
              "    </tr>\n",
              "    <tr>\n",
              "      <th>top</th>\n",
              "      <td>Salida de vagones</td>\n",
              "    </tr>\n",
              "    <tr>\n",
              "      <th>freq</th>\n",
              "      <td>4407</td>\n",
              "    </tr>\n",
              "  </tbody>\n",
              "</table>\n",
              "</div><br><label><b>dtype:</b> object</label>"
            ]
          },
          "metadata": {},
          "execution_count": 61
        }
      ]
    },
    {
      "cell_type": "code",
      "source": [
        "df = df.dropna()\n",
        "for col in ['trip_id', 'train_name', 'station_id', 'event', 'cargo_type']:\n",
        "    df = df[df[col].notnull() & (df[col].str.strip() != \"\")]\n",
        "df = df[(df['cargo'] >= 0) & (df['cargo'] <= 200)]\n",
        "df = df[(df['fuel_level'] >= 0) & (df['fuel_level'] <= 2000)]\n",
        "df.event.describe()"
      ],
      "metadata": {
        "id": "u1E4Arbpnswb",
        "outputId": "2056c21c-c080-464b-c305-62e61568f894",
        "colab": {
          "base_uri": "https://localhost:8080/",
          "height": 209
        }
      },
      "execution_count": 62,
      "outputs": [
        {
          "output_type": "execute_result",
          "data": {
            "text/plain": [
              "count                   15372\n",
              "unique                      6\n",
              "top       Descarga de vagones\n",
              "freq                     4392\n",
              "Name: event, dtype: object"
            ],
            "text/html": [
              "<div>\n",
              "<style scoped>\n",
              "    .dataframe tbody tr th:only-of-type {\n",
              "        vertical-align: middle;\n",
              "    }\n",
              "\n",
              "    .dataframe tbody tr th {\n",
              "        vertical-align: top;\n",
              "    }\n",
              "\n",
              "    .dataframe thead th {\n",
              "        text-align: right;\n",
              "    }\n",
              "</style>\n",
              "<table border=\"1\" class=\"dataframe\">\n",
              "  <thead>\n",
              "    <tr style=\"text-align: right;\">\n",
              "      <th></th>\n",
              "      <th>event</th>\n",
              "    </tr>\n",
              "  </thead>\n",
              "  <tbody>\n",
              "    <tr>\n",
              "      <th>count</th>\n",
              "      <td>15372</td>\n",
              "    </tr>\n",
              "    <tr>\n",
              "      <th>unique</th>\n",
              "      <td>6</td>\n",
              "    </tr>\n",
              "    <tr>\n",
              "      <th>top</th>\n",
              "      <td>Descarga de vagones</td>\n",
              "    </tr>\n",
              "    <tr>\n",
              "      <th>freq</th>\n",
              "      <td>4392</td>\n",
              "    </tr>\n",
              "  </tbody>\n",
              "</table>\n",
              "</div><br><label><b>dtype:</b> object</label>"
            ]
          },
          "metadata": {},
          "execution_count": 62
        }
      ]
    },
    {
      "cell_type": "code",
      "source": [
        "df['date'] = pd.to_datetime(df['date'], errors='coerce')\n",
        "df['cargo'] = df['cargo'].astype(float)\n",
        "df['fuel_level'] = df['fuel_level'].astype(float)\n",
        "df['ended'] = df['ended'].astype(bool)"
      ],
      "metadata": {
        "id": "zRt9B58in2Yl"
      },
      "execution_count": 63,
      "outputs": []
    },
    {
      "cell_type": "code",
      "source": [
        "df['hour'] = df['date'].dt.hour\n",
        "df['weekday'] = df['date'].dt.weekday\n",
        "df['month'] = df['date'].dt.month\n",
        "df.event.describe()"
      ],
      "metadata": {
        "id": "NTNZbU5IpcLw",
        "outputId": "4135c2c0-377c-431d-d39d-cece616981c1",
        "colab": {
          "base_uri": "https://localhost:8080/",
          "height": 209
        }
      },
      "execution_count": 64,
      "outputs": [
        {
          "output_type": "execute_result",
          "data": {
            "text/plain": [
              "count                   15372\n",
              "unique                      6\n",
              "top       Descarga de vagones\n",
              "freq                     4392\n",
              "Name: event, dtype: object"
            ],
            "text/html": [
              "<div>\n",
              "<style scoped>\n",
              "    .dataframe tbody tr th:only-of-type {\n",
              "        vertical-align: middle;\n",
              "    }\n",
              "\n",
              "    .dataframe tbody tr th {\n",
              "        vertical-align: top;\n",
              "    }\n",
              "\n",
              "    .dataframe thead th {\n",
              "        text-align: right;\n",
              "    }\n",
              "</style>\n",
              "<table border=\"1\" class=\"dataframe\">\n",
              "  <thead>\n",
              "    <tr style=\"text-align: right;\">\n",
              "      <th></th>\n",
              "      <th>event</th>\n",
              "    </tr>\n",
              "  </thead>\n",
              "  <tbody>\n",
              "    <tr>\n",
              "      <th>count</th>\n",
              "      <td>15372</td>\n",
              "    </tr>\n",
              "    <tr>\n",
              "      <th>unique</th>\n",
              "      <td>6</td>\n",
              "    </tr>\n",
              "    <tr>\n",
              "      <th>top</th>\n",
              "      <td>Descarga de vagones</td>\n",
              "    </tr>\n",
              "    <tr>\n",
              "      <th>freq</th>\n",
              "      <td>4392</td>\n",
              "    </tr>\n",
              "  </tbody>\n",
              "</table>\n",
              "</div><br><label><b>dtype:</b> object</label>"
            ]
          },
          "metadata": {},
          "execution_count": 64
        }
      ]
    },
    {
      "cell_type": "code",
      "execution_count": 65,
      "metadata": {
        "id": "wZv3vQc2jnq0",
        "outputId": "825a0176-2672-49e6-d134-a29b4dd69d3e",
        "colab": {
          "base_uri": "https://localhost:8080/"
        }
      },
      "outputs": [
        {
          "output_type": "execute_result",
          "data": {
            "text/plain": [
              "(15372, 12)"
            ]
          },
          "metadata": {},
          "execution_count": 65
        }
      ],
      "source": [
        "df.shape\n"
      ]
    },
    {
      "cell_type": "code",
      "source": [
        "df.info(show_counts=True)"
      ],
      "metadata": {
        "id": "mxcvtMAAqr7f",
        "outputId": "81b0b878-3161-4099-9bf9-8e7ae3aeb118",
        "colab": {
          "base_uri": "https://localhost:8080/"
        }
      },
      "execution_count": 66,
      "outputs": [
        {
          "output_type": "stream",
          "name": "stdout",
          "text": [
            "<class 'pandas.core.frame.DataFrame'>\n",
            "Index: 15372 entries, 0 to 15425\n",
            "Data columns (total 12 columns):\n",
            " #   Column      Non-Null Count  Dtype         \n",
            "---  ------      --------------  -----         \n",
            " 0   trip_id     15372 non-null  object        \n",
            " 1   train_name  15372 non-null  object        \n",
            " 2   date        15372 non-null  datetime64[ns]\n",
            " 3   cargo       15372 non-null  float64       \n",
            " 4   station_id  15372 non-null  object        \n",
            " 5   event       15372 non-null  object        \n",
            " 6   cargo_type  15372 non-null  object        \n",
            " 7   fuel_level  15372 non-null  float64       \n",
            " 8   ended       15372 non-null  bool          \n",
            " 9   hour        15372 non-null  int32         \n",
            " 10  weekday     15372 non-null  int32         \n",
            " 11  month       15372 non-null  int32         \n",
            "dtypes: bool(1), datetime64[ns](1), float64(2), int32(3), object(5)\n",
            "memory usage: 1.2+ MB\n"
          ]
        }
      ]
    },
    {
      "cell_type": "markdown",
      "metadata": {
        "id": "POAugXJ-jnq0"
      },
      "source": [
        "# Data Analytics\n",
        "\n",
        "Once we know about the data that we are using and have cleaned it, we need to ask what kind of useful information we can extract from those data. It is a good idea to make a kind of brainstorming of possible questions, then take the list of resulting questions and sort them by their difficulty, and finally begin to answer them starting with the easiest ones. For this session, that process has already been done for you, and the questions are already sorted by difficulty. In some cases, the answer to a question can be obtained from a graphic, so use them to your advantage.\n",
        "\n",
        "Those questions are grouped into 10 blocks. All questions in a block can be solved using the same strategy; e.g., to answer \"What was the maximum number of packages transported in a train?\" or \"What was the minimum number of packages transported in a train?\", we will make the same process, but changing the function that we apply to the data. Your task is to answer at least one question in each block. At the end of the workshop session, you will fill out a Moodle questionnaire with 10 questions, one for each block."
      ]
    },
    {
      "cell_type": "markdown",
      "metadata": {
        "id": "rgGFUfofjnq0"
      },
      "source": [
        "## Block 0\n",
        "\n",
        "- How many records are in the dataset?\n",
        "- How many columns are in the dataset?"
      ]
    },
    {
      "cell_type": "code",
      "execution_count": 67,
      "metadata": {
        "id": "wbgS6y1gjnq0",
        "outputId": "d44ac381-a9c7-46c8-8900-07ff150b6db3",
        "colab": {
          "base_uri": "https://localhost:8080/"
        }
      },
      "outputs": [
        {
          "output_type": "stream",
          "name": "stdout",
          "text": [
            "Number of records: 15372\n"
          ]
        }
      ],
      "source": [
        "num_registros = df.shape[0]\n",
        "print(\"Number of records:\", num_registros)"
      ]
    },
    {
      "cell_type": "code",
      "source": [
        "# Estan extras hour, weekday y month, en realidad son 9 y quitando id 8\n",
        "num_columnas = df.shape[1]\n",
        "print(\"Number of columns:\", num_columnas)"
      ],
      "metadata": {
        "id": "QCc9VhHztf9v",
        "outputId": "8e268b08-0a46-45c6-db63-d9eadcd6344b",
        "colab": {
          "base_uri": "https://localhost:8080/"
        }
      },
      "execution_count": 68,
      "outputs": [
        {
          "output_type": "stream",
          "name": "stdout",
          "text": [
            "Number of columns: 12\n"
          ]
        }
      ]
    },
    {
      "cell_type": "markdown",
      "metadata": {
        "id": "xOEz8QR6jnq0"
      },
      "source": [
        "## Block 1\n",
        "\n",
        "- How many trains are in the dataset?\n",
        "- How many stations are in the dataset?\n",
        "- How many trips are in the dataset?\n",
        "- How many different cargo types are in the dataset?"
      ]
    },
    {
      "cell_type": "code",
      "source": [
        "num_trenes = df['train_name'].nunique()\n",
        "print(\"Number of trains:\", num_trenes)"
      ],
      "metadata": {
        "id": "eiJUhkh3tz-h",
        "outputId": "a82c98a8-46b8-4049-c71b-b28dfef5b6aa",
        "colab": {
          "base_uri": "https://localhost:8080/"
        }
      },
      "execution_count": 69,
      "outputs": [
        {
          "output_type": "stream",
          "name": "stdout",
          "text": [
            "Number of trains: 3\n"
          ]
        }
      ]
    },
    {
      "cell_type": "code",
      "source": [
        "num_estaciones = df['station_id'].nunique()\n",
        "print(\"Number of stations:\", num_estaciones)\n"
      ],
      "metadata": {
        "id": "3aNOGv88t2no",
        "outputId": "d3412d37-2eeb-4538-94e4-82c861dfbaca",
        "colab": {
          "base_uri": "https://localhost:8080/"
        }
      },
      "execution_count": 70,
      "outputs": [
        {
          "output_type": "stream",
          "name": "stdout",
          "text": [
            "Number of stations: 7\n"
          ]
        }
      ]
    },
    {
      "cell_type": "code",
      "source": [
        "num_viajes = df['trip_id'].nunique()\n",
        "print(\"Number of trips:\", num_viajes)\n"
      ],
      "metadata": {
        "id": "xqWJGn6ut4xe",
        "outputId": "3cbcf418-e996-4e4e-f1d5-23860a7c1103",
        "colab": {
          "base_uri": "https://localhost:8080/"
        }
      },
      "execution_count": 71,
      "outputs": [
        {
          "output_type": "stream",
          "name": "stdout",
          "text": [
            "Number of trips: 732\n"
          ]
        }
      ]
    },
    {
      "cell_type": "code",
      "source": [
        "num_tipos_carga = df['cargo_type'].nunique()\n",
        "print(\"Number of cargo types:\", num_tipos_carga)\n"
      ],
      "metadata": {
        "id": "vRGZgMXCt8t1",
        "outputId": "b10e3eb2-84be-4ee1-8165-312e08d043bd",
        "colab": {
          "base_uri": "https://localhost:8080/"
        }
      },
      "execution_count": 72,
      "outputs": [
        {
          "output_type": "stream",
          "name": "stdout",
          "text": [
            "Number of cargo types: 6\n"
          ]
        }
      ]
    },
    {
      "cell_type": "code",
      "execution_count": 73,
      "metadata": {
        "id": "Chjyof1Njnq0"
      },
      "outputs": [],
      "source": [
        "# Write your code here"
      ]
    },
    {
      "cell_type": "markdown",
      "metadata": {
        "id": "sxfJmLAxjnq0"
      },
      "source": [
        "## Block 2\n",
        "\n",
        "- How many packages did train UDAXI transport?\n",
        "- How many packages of Chemicals were transported?\n",
        "- What is the maximum cargo carried by train UDAXI?"
      ]
    },
    {
      "cell_type": "code",
      "source": [
        "paquetes_udaxi = df[df['train_name'] == 'UDAXI']['cargo'].sum()\n",
        "print(\"Packages transported by train UDAXI:\", paquetes_udaxi)\n"
      ],
      "metadata": {
        "id": "LmutXToCuELJ",
        "outputId": "ed37e0a5-aa6f-4e6e-e82e-db8e6a64ff37",
        "colab": {
          "base_uri": "https://localhost:8080/"
        }
      },
      "execution_count": 74,
      "outputs": [
        {
          "output_type": "stream",
          "name": "stdout",
          "text": [
            "Packages transported by train UDAXI: 135660.0\n"
          ]
        }
      ]
    },
    {
      "cell_type": "code",
      "source": [
        "paquetes_chemicals = df[df['cargo_type'] == 'Chemicals']['cargo'].sum()\n",
        "print(\"Packages of Chemicals transported:\", paquetes_chemicals)\n"
      ],
      "metadata": {
        "id": "VJmTRu-yuG_Q",
        "outputId": "af43bc0e-6f39-4961-cd7d-556f14ab7f23",
        "colab": {
          "base_uri": "https://localhost:8080/"
        }
      },
      "execution_count": 75,
      "outputs": [
        {
          "output_type": "stream",
          "name": "stdout",
          "text": [
            "Packages of Chemicals transported: 41409.0\n"
          ]
        }
      ]
    },
    {
      "cell_type": "code",
      "source": [
        "paquetes_textiles = df[df['cargo_type'] == 'Textiles']['cargo'].sum()\n",
        "print(\"Packages of Textiles transported:\", paquetes_textiles)\n"
      ],
      "metadata": {
        "id": "Lc2otGeUv7Ih",
        "outputId": "b1a1f8be-43de-4cbe-eb2a-4cbf504b7de6",
        "colab": {
          "base_uri": "https://localhost:8080/"
        }
      },
      "execution_count": 76,
      "outputs": [
        {
          "output_type": "stream",
          "name": "stdout",
          "text": [
            "Packages of Textiles transported: 42502.0\n"
          ]
        }
      ]
    },
    {
      "cell_type": "code",
      "source": [
        "max_cargo_udaxi = df[df['train_name'] == 'UDAXI']['cargo'].max()\n",
        "print(\"Maximum cargo carried by train UDAXI:\", max_cargo_udaxi)\n"
      ],
      "metadata": {
        "id": "_aFbQqp_uKbw",
        "outputId": "8b06201c-0690-46c3-d0d1-1801158569e6",
        "colab": {
          "base_uri": "https://localhost:8080/"
        }
      },
      "execution_count": 77,
      "outputs": [
        {
          "output_type": "stream",
          "name": "stdout",
          "text": [
            "Maximum cargo carried by train UDAXI: 100.0\n"
          ]
        }
      ]
    },
    {
      "cell_type": "code",
      "execution_count": 78,
      "metadata": {
        "id": "tMVEnvahjnq0"
      },
      "outputs": [],
      "source": [
        "# Write your code here"
      ]
    },
    {
      "cell_type": "markdown",
      "metadata": {
        "id": "Dlx_RPDHjnq0"
      },
      "source": [
        "## Block 3\n",
        "- Which cargo type was transported the most?\n",
        "- Which train made more trips?\n",
        "- Which train transported the most packages?"
      ]
    },
    {
      "cell_type": "code",
      "source": [
        "cargo_por_tipo = df.groupby('cargo_type')['cargo'].sum()\n",
        "tipo_carga_mas = cargo_por_tipo.idxmax()\n",
        "print(\"Cargo type transported the most:\", tipo_carga_mas)\n"
      ],
      "metadata": {
        "id": "inlaAwtjuPBE",
        "outputId": "4d4a4ac0-f9fe-450c-eb53-531307c01c9d",
        "colab": {
          "base_uri": "https://localhost:8080/"
        }
      },
      "execution_count": 79,
      "outputs": [
        {
          "output_type": "stream",
          "name": "stdout",
          "text": [
            "Cargo type transported the most: Electronics\n"
          ]
        }
      ]
    },
    {
      "cell_type": "code",
      "source": [
        "viajes_por_tren = df.groupby('train_name')['trip_id'].nunique()\n",
        "tren_mas_viajes = viajes_por_tren.idxmax()\n",
        "print(\"Train with most trips:\", tren_mas_viajes)\n"
      ],
      "metadata": {
        "id": "PoOOfTDhuSDW",
        "outputId": "d32698a7-ab26-4448-8708-e58a5e03b052",
        "colab": {
          "base_uri": "https://localhost:8080/"
        }
      },
      "execution_count": 80,
      "outputs": [
        {
          "output_type": "stream",
          "name": "stdout",
          "text": [
            "Train with most trips: UDAXI\n"
          ]
        }
      ]
    },
    {
      "cell_type": "code",
      "source": [
        "paquetes_por_tren = df.groupby('train_name')['cargo'].sum()\n",
        "tren_mas_paquetes = paquetes_por_tren.idxmax()\n",
        "print(\"Train that transported the most packages:\", tren_mas_paquetes)\n"
      ],
      "metadata": {
        "id": "JugW6GRruUKA",
        "outputId": "318f2401-32a9-49b8-a45c-c2263d41f901",
        "colab": {
          "base_uri": "https://localhost:8080/"
        }
      },
      "execution_count": 81,
      "outputs": [
        {
          "output_type": "stream",
          "name": "stdout",
          "text": [
            "Train that transported the most packages: UDAXI\n"
          ]
        }
      ]
    },
    {
      "cell_type": "code",
      "execution_count": 82,
      "metadata": {
        "id": "PoXv4Gn5jnq0"
      },
      "outputs": [],
      "source": [
        "# Write your code here"
      ]
    },
    {
      "cell_type": "markdown",
      "metadata": {
        "id": "bpTDlx3rjnq0"
      },
      "source": [
        "## Block 4\n",
        "- How many trips were made in January?\n",
        "- How many packages were transported on Mondays?"
      ]
    },
    {
      "cell_type": "code",
      "source": [
        "# Asegurar formato datetime\n",
        "df['date'] = pd.to_datetime(df['date'], errors='coerce')\n",
        "\n",
        "# Filtrar viajes en enero\n",
        "viajes_enero = df[df['date'].dt.month == 1]['trip_id'].nunique()\n",
        "print(\"Number of trips made in January:\", viajes_enero)\n"
      ],
      "metadata": {
        "id": "kjnkIoIsuZ4t",
        "outputId": "c95fae05-4939-4360-f280-3efd257f2706",
        "colab": {
          "base_uri": "https://localhost:8080/"
        }
      },
      "execution_count": 83,
      "outputs": [
        {
          "output_type": "stream",
          "name": "stdout",
          "text": [
            "Number of trips made in January: 51\n"
          ]
        }
      ]
    },
    {
      "cell_type": "code",
      "source": [
        "# Filtrar datos para lunes (weekday=0)\n",
        "paquetes_lunes = df[df['date'].dt.weekday == 0]['cargo'].sum()\n",
        "print(\"Packages transported on Mondays:\", paquetes_lunes)\n"
      ],
      "metadata": {
        "id": "9_Ohm3mGuc1Q",
        "outputId": "6ef7b747-2168-4569-fe6f-b6974a00cb07",
        "colab": {
          "base_uri": "https://localhost:8080/"
        }
      },
      "execution_count": 84,
      "outputs": [
        {
          "output_type": "stream",
          "name": "stdout",
          "text": [
            "Packages transported on Mondays: 39795.0\n"
          ]
        }
      ]
    },
    {
      "cell_type": "code",
      "execution_count": 85,
      "metadata": {
        "id": "HPjvNO0tjnq0"
      },
      "outputs": [],
      "source": [
        "# Write your code here"
      ]
    },
    {
      "cell_type": "markdown",
      "metadata": {
        "id": "iGgRlV-pjnq1"
      },
      "source": [
        "## Block 5\n",
        "- Which train has the best fuel efficiency (lowest average consumption)?\n",
        "- Which train has the worst fuel efficiency (maximum average consumption)?\n",
        "- What is the average fuel consumption in the whole trip for Textiles?\n",
        "- How long lasted the shortest trip?\n",
        "- How long lasted the longest trip?"
      ]
    },
    {
      "cell_type": "code",
      "source": [
        "eficiencia_combustible = df.groupby('train_name')['fuel_level'].mean()\n",
        "tren_mejor_eficiencia = eficiencia_combustible.idxmin()\n",
        "print(\"Train with best fuel efficiency:\", tren_mejor_eficiencia)\n"
      ],
      "metadata": {
        "id": "C85Ay4OiuhMn",
        "outputId": "084919fa-30b0-43fd-f14f-8982068e8399",
        "colab": {
          "base_uri": "https://localhost:8080/"
        }
      },
      "execution_count": 86,
      "outputs": [
        {
          "output_type": "stream",
          "name": "stdout",
          "text": [
            "Train with best fuel efficiency: HHEXD\n"
          ]
        }
      ]
    },
    {
      "cell_type": "code",
      "source": [
        "tren_peor_eficiencia = eficiencia_combustible.idxmax()\n",
        "print(\"Train with worst fuel efficiency:\", tren_peor_eficiencia)\n"
      ],
      "metadata": {
        "id": "l7CyBgNuujJ-",
        "outputId": "6fbc38f2-fad2-44e4-893e-c2f2e219b28a",
        "colab": {
          "base_uri": "https://localhost:8080/"
        }
      },
      "execution_count": 87,
      "outputs": [
        {
          "output_type": "stream",
          "name": "stdout",
          "text": [
            "Train with worst fuel efficiency: VXRCS\n"
          ]
        }
      ]
    },
    {
      "cell_type": "code",
      "source": [
        "consumo_textiles = df[df['cargo_type'] == 'Textiles']['fuel_level'].mean()\n",
        "print(\"Average fuel consumption for Textiles:\", consumo_textiles)\n"
      ],
      "metadata": {
        "id": "-a6-ATslukfw",
        "outputId": "bf339ff3-dcd6-4c06-f66f-87f498c1794f",
        "colab": {
          "base_uri": "https://localhost:8080/"
        }
      },
      "execution_count": 88,
      "outputs": [
        {
          "output_type": "stream",
          "name": "stdout",
          "text": [
            "Average fuel consumption for Textiles: 670.9905477941177\n"
          ]
        }
      ]
    },
    {
      "cell_type": "code",
      "source": [
        "# Convertir 'date' si no está en datetime\n",
        "df['date'] = pd.to_datetime(df['date'], errors='coerce')\n",
        "\n",
        "# Duración de cada viaje (máximo - mínimo fecha por trip_id)\n",
        "duracion_viajes = df.groupby('trip_id')['date'].agg(['min', 'max'])\n",
        "duracion_viajes['duracion'] = duracion_viajes['max'] - duracion_viajes['min']\n",
        "\n",
        "viaje_mas_corto = duracion_viajes['duracion'].min()\n",
        "viaje_mas_largo = duracion_viajes['duracion'].max()\n",
        "\n",
        "print(\"Shortest trip duration:\", viaje_mas_corto)\n",
        "print(\"Longest trip duration:\", viaje_mas_largo)\n"
      ],
      "metadata": {
        "id": "zLx0AYMauoMq",
        "outputId": "af891ace-2700-482e-ba98-ceda4743e361",
        "colab": {
          "base_uri": "https://localhost:8080/"
        }
      },
      "execution_count": 89,
      "outputs": [
        {
          "output_type": "stream",
          "name": "stdout",
          "text": [
            "Shortest trip duration: 0 days 03:15:42\n",
            "Longest trip duration: 0 days 08:54:11\n"
          ]
        }
      ]
    },
    {
      "cell_type": "code",
      "execution_count": 90,
      "metadata": {
        "id": "yVEfWliqjnq1"
      },
      "outputs": [],
      "source": [
        "# Write your code here"
      ]
    }
  ],
  "metadata": {
    "kernelspec": {
      "display_name": "Python 3",
      "language": "python",
      "name": "python3"
    },
    "language_info": {
      "codemirror_mode": {
        "name": "ipython",
        "version": 3
      },
      "file_extension": ".py",
      "mimetype": "text/x-python",
      "name": "python",
      "nbconvert_exporter": "python",
      "pygments_lexer": "ipython3",
      "version": "3.10.6"
    },
    "colab": {
      "provenance": [],
      "include_colab_link": true
    }
  },
  "nbformat": 4,
  "nbformat_minor": 0
}